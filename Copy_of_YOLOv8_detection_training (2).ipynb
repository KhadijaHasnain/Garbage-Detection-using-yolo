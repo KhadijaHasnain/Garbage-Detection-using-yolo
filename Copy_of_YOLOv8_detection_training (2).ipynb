{
  "cells": [
    {
      "cell_type": "markdown",
      "metadata": {
        "id": "3q8IjnB8QGG3"
      },
      "source": [
        "# Initialization"
      ]
    },
    {
      "cell_type": "markdown",
      "metadata": {
        "id": "pbdTb-q4QJ0M"
      },
      "source": [
        "## Show GPU + CPU"
      ]
    },
    {
      "cell_type": "code",
      "execution_count": null,
      "metadata": {
        "id": "MsJ9oBX1dUhh"
      },
      "outputs": [],
      "source": [
        "!nvidia-smi -L\n",
        "print(\"\\nCPU:\")\n",
        "!grep \"model name\" /proc/cpuinfo\n"
      ]
    },
    {
      "cell_type": "markdown",
      "metadata": {
        "id": "wVi4j857p0GS"
      },
      "source": [
        "## YOLOv8 setup"
      ]
    },
    {
      "cell_type": "code",
      "execution_count": null,
      "metadata": {
        "id": "P1F_lwcyqItL"
      },
      "outputs": [],
      "source": [
        "%pip install -q ultralytics\n",
        "\n",
        "import ultralytics\n",
        "ultralytics.checks()"
      ]
    },
    {
      "cell_type": "markdown",
      "metadata": {
        "id": "g41kdogczKts"
      },
      "source": [
        "## Upload dataset from Roboflow\n",
        "\n",
        "If you are not sure how to export your annotated dataset, check the [Roboflow docs](https://docs.roboflow.com/exporting-data).\n",
        "\n",
        "> Alternatively you can upload your dataset ([YOLOv8 format](https://roboflow.com/formats/yolov8-pytorch-txt)) from [**Google Drive**](#scrollTo=RxOnnOadc5vR) or from your [**local file system**](#scrollTo=qKTCWdtkOUw7) in the next steps."
      ]
    },
    {
      "cell_type": "code",
      "execution_count": null,
      "metadata": {
        "id": "aRSmjO9MQRVq"
      },
      "outputs": [],
      "source": [
        "%pip install -q roboflow"
      ]
    },
    {
      "cell_type": "markdown",
      "metadata": {
        "id": "8cqOYoopQx-U"
      },
      "source": [
        "**Copy only the last three lines of your Download Code and insert them in the next code cell:**"
      ]
    },
    {
      "cell_type": "code",
      "execution_count": null,
      "metadata": {
        "id": "0SsPwQDzRvwH"
      },
      "outputs": [],
      "source": [
        "from pathlib import Path\n",
        "from roboflow import Roboflow\n",
        "\n",
        "%cd /content\n",
        "\n",
        "### Paste your Download Code here:\n",
        "rf = Roboflow(api_key=\"mTbnFiFXOk5y1ddXOYvv\")\n",
        "project = rf.workspace(\"mb-f9pmt\").project(\"pass-kqgak\")\n",
        "version = project.version(1)\n",
        "dataset = version.download(\"yolov8\")\n",
        "\n",
        "###\n",
        "\n",
        "dataset_location = dataset.location\n",
        "\n",
        "print(f\"\\nLocation of dataset: {dataset_location}\")\n",
        "print(f\"\\nTotal number of images: {len(list(Path(dataset_location).glob('**/*.jpg')))}\")\n",
        "\n",
        "if Path(f\"{dataset_location}/train/images\").exists():\n",
        "  print(f\"\\nNumber of training images: {len(list(Path(f'{dataset_location}/train/images').glob('*.jpg')))}\")\n",
        "if Path(f\"{dataset_location}/valid/images\").exists():\n",
        "  print(f\"Number of validation images: {len(list(Path(f'{dataset_location}/valid/images').glob('*.jpg')))}\")\n",
        "if Path(f\"{dataset_location}/test/images\").exists():\n",
        "  print(f\"Number of test images: {len(list(Path(f'{dataset_location}/test/images').glob('*.jpg')))}\")\n",
        "print(\"\\nContent of data.yaml file:\")\n",
        "%cat {dataset_location}/data.yaml"
      ]
    },
    {
      "cell_type": "markdown",
      "metadata": {
        "id": "RxOnnOadc5vR"
      },
      "source": [
        "## Recommended: Connect to Google Drive"
      ]
    },
    {
      "cell_type": "code",
      "execution_count": null,
      "metadata": {
        "id": "q4lMoPNddCtx"
      },
      "outputs": [],
      "source": [
        "from google.colab import drive\n",
        "drive.mount(\"/content/drive\")"
      ]
    },
    {
      "cell_type": "code",
      "execution_count": null,
      "metadata": {
        "id": "hFA-ROJ8rUWU"
      },
      "outputs": [],
      "source": [
        "#@title ## Upload dataset from Google Drive {display-mode: \"form\"}\n",
        "\n",
        "#@markdown ### Google Drive path to your (zipped) dataset folder:\n",
        "dataset_path = \"/content/drive/MyDrive/yolov8_dataset.zip\" #@param {type: \"string\"}\n",
        "#@markdown - Please make sure to compress your dataset folder to **.zip** file for much faster upload speed!\n",
        "#@markdown - Dataset has to be in [YOLOv8 format](https://roboflow.com/formats/yolov8-pytorch-txt).\n",
        "\n",
        "from pathlib import Path\n",
        "\n",
        "dataset_location = f\"/content/{Path(dataset_path).stem}\"\n",
        "\n",
        "print(\"Uploading dataset from Google Drive...\\n\")\n",
        "!rsync -ah --info=progress2 --no-i-r {dataset_path} /content\n",
        "if Path(dataset_path).suffix == \".zip\":\n",
        "  import zipfile\n",
        "  zip_path = f\"/content/{Path(dataset_path).stem}.zip\"\n",
        "  if len(list(zipfile.Path(zip_path).iterdir())) > 1:\n",
        "    !unzip -uq {zip_path} -d {dataset_location}\n",
        "  else:\n",
        "    !unzip -uq {zip_path} -d /content\n",
        "  %rm {zip_path}\n",
        "print(\"\\nDataset was successfully uploaded!\")\n",
        "\n",
        "print(f\"\\nLocation of dataset: {dataset_location}\")\n",
        "print(f\"\\nTotal number of images: {len(list(Path(dataset_location).glob('**/*.jpg')))}\")\n",
        "\n",
        "if Path(f\"{dataset_location}/train/images\").exists():\n",
        "  print(f\"\\nNumber of training images: {len(list(Path(f'{dataset_location}/train/images').glob('*.jpg')))}\")\n",
        "if Path(f\"{dataset_location}/valid/images\").exists():\n",
        "  print(f\"Number of validation images: {len(list(Path(f'{dataset_location}/valid/images').glob('*.jpg')))}\")\n",
        "if Path(f\"{dataset_location}/test/images\").exists():\n",
        "  print(f\"Number of test images: {len(list(Path(f'{dataset_location}/test/images').glob('*.jpg')))}\")\n",
        "print(\"\\nContent of data.yaml file:\")\n",
        "%cat {dataset_location}/data.yaml"
      ]
    },
    {
      "cell_type": "code",
      "execution_count": null,
      "metadata": {
        "id": "qKTCWdtkOUw7"
      },
      "outputs": [],
      "source": [
        "#@title ## Upload dataset from your local file system {display-mode: \"form\"}\n",
        "\n",
        "#@markdown ### Name of your zipped dataset folder:\n",
        "dataset_name = \"yolov8_dataset\" #@param {type: \"string\"}\n",
        "#@markdown - Please make sure to compress your dataset folder to **.zip** file before uploading!\n",
        "#@markdown - The name of the .zip file should be the same as for the dataset folder.\n",
        "#@markdown - Dataset has to be in [YOLOv8 format](https://roboflow.com/formats/yolov8-pytorch-txt).\n",
        "\n",
        "from pathlib import Path\n",
        "import zipfile\n",
        "from google.colab import files\n",
        "\n",
        "dataset_location = f\"/content/{dataset_name}\"\n",
        "\n",
        "uploaded = files.upload()\n",
        "\n",
        "if len(list(zipfile.Path(f\"{dataset_name}.zip\").iterdir())) > 1:\n",
        "  !unzip -uq {dataset_name}.zip -d {dataset_location}\n",
        "else:\n",
        "  !unzip -uq {dataset_name}.zip -d /content\n",
        "%rm {dataset_name}.zip\n",
        "\n",
        "print(f\"\\nLocation of dataset: {dataset_location}\")\n",
        "print(f\"\\nTotal number of images: {len(list(Path(dataset_location).glob('**/*.jpg')))}\")\n",
        "\n",
        "if Path(f\"{dataset_location}/train/images\").exists():\n",
        "  print(f\"\\nNumber of training images: {len(list(Path(f'{dataset_location}/train/images').glob('*.jpg')))}\")\n",
        "if Path(f\"{dataset_location}/valid/images\").exists():\n",
        "  print(f\"Number of validation images: {len(list(Path(f'{dataset_location}/valid/images').glob('*.jpg')))}\")\n",
        "if Path(f\"{dataset_location}/test/images\").exists():\n",
        "  print(f\"Number of test images: {len(list(Path(f'{dataset_location}/test/images').glob('*.jpg')))}\")\n",
        "print(\"\\nContent of data.yaml file:\")\n",
        "%cat {dataset_location}/data.yaml"
      ]
    },
    {
      "cell_type": "markdown",
      "metadata": {
        "id": "d2HSjdiXQNlO"
      },
      "source": [
        "## Edit `data.yaml`\n",
        "\n",
        "Check the `data.yaml` file in your dataset folder to make sure the paths to the train, valid and test folders are correct.\n",
        "\n",
        "- Open your dataset folder in the File Explorer (Folder symbol on the left side bar).\n",
        "- Double-click on the `data.yaml` file, it will open in the editor to the right.\n",
        "\n",
        "  Make sure that the paths to the train, valid and test folders are as follows:\n",
        "\n",
        "  ``` yaml\n",
        "  train: train/images\n",
        "  val: valid/images\n",
        "  test: test/images\n",
        "  ```\n",
        "\n",
        "- Save your changes with **Ctrl + S** and close the editor."
      ]
    },
    {
      "cell_type": "markdown",
      "metadata": {
        "id": "nnn4pSbI6eTv"
      },
      "source": [
        "# Model training"
      ]
    },
    {
      "cell_type": "code",
      "execution_count": null,
      "metadata": {
        "id": "9o0DMUAIrdib"
      },
      "outputs": [],
      "source": [
        "#@title ## Optional: Select external logger {display-mode: \"form\"}\n",
        "\n",
        "logger = \"Weights&Biases\" #@param [\"Weights&Biases\", \"Comet\", \"ClearML\"]\n",
        "\n",
        "#@markdown > More info: [YOLOv8 logging](https://docs.ultralytics.com/modes/train/#logging)\n",
        "\n",
        "if logger == \"Weights&Biases\":\n",
        "  %pip install -q wandb\n",
        "  import wandb\n",
        "  wandb.login()\n",
        "elif logger == \"Comet\":\n",
        "  %pip install -q comet_ml\n",
        "  import comet_ml\n",
        "  comet_ml.init()\n",
        "elif logger == \"ClearML\":\n",
        "  %pip install -q clearml\n",
        "  import clearml\n",
        "  clearml.browser_login()"
      ]
    },
    {
      "cell_type": "markdown",
      "metadata": {
        "id": "7t6PUcz3SsEy"
      },
      "source": [
        "## Train YOLOv8 detection model\n",
        "\n",
        "- `name` name of the training run\n",
        "- `imgsz` input image size (recommended: same size as for inference)\n",
        "- `batch` specify batch size (recommended: 32)\n",
        "- `epochs` set the number of training [epochs](https://machine-learning.paperspace.com/wiki/epoch) (recommended: 100-300+)\n",
        "- `data` path to `data.yaml` file\n",
        "- `model` specify the [pretrained model weights](https://github.com/ultralytics/ultralytics#models)\n",
        "> `model=yolov8n.pt` YOLOv8n model (recommended)  \n",
        "  `model=yolov8s.pt` YOLOv8s model\n",
        "- `cache` cache images in RAM for faster training\n",
        "- `patience` epochs to wait for no observable improvement for early stopping of training (default: 50)\n",
        "\n",
        "> More information on YOLOv8 [model training](https://docs.ultralytics.com/modes/train/) 🚀"
      ]
    },
    {
      "cell_type": "code",
      "execution_count": null,
      "metadata": {
        "id": "qAYNJg9M7sg3",
        "cellView": "form"
      },
      "outputs": [],
      "source": [
        "training_run_name = \"YOLOv8n_320_batch32_epochs200\" #@param {type: \"string\"}\n",
        "#@markdown Add UTC timestamp in front of training run name:\n",
        "add_timestamp = True #@param {type:\"boolean\"}\n",
        "#@markdown ---\n",
        "\n",
        "image_size = 640 #@param {type: \"integer\"}\n",
        "batch_size = 32 #@param {type:\"slider\", min:32, max:128, step:32}\n",
        "number_epochs = 100 #@param {type:\"slider\", min:10, max:500, step:10}\n",
        "model = \"yolov8n.pt\" #@param [\"yolov8n.pt\", \"yolov8s.pt\"]\n",
        "\n",
        "if add_timestamp:\n",
        "  from datetime import datetime\n",
        "  utc_timestamp = datetime.now().strftime(\"%Y%m%d_%H-%M\")\n",
        "  train_run_name = f\"{utc_timestamp}_{training_run_name}\"\n",
        "else:\n",
        "  train_run_name = training_run_name\n",
        "\n",
        "%cd /content\n",
        "\n",
        "!yolo detect train \\\n",
        "name={train_run_name} \\\n",
        "imgsz={image_size} \\\n",
        "batch={batch_size} \\\n",
        "epochs={number_epochs} \\\n",
        "data=/content/pass-1/data.yaml \\\n",
        "model={model} \\\n",
        "cache=True \\\n",
        "#patience=0 # disable EarlyStopping (default: 50)"
      ]
    },
    {
      "cell_type": "markdown",
      "metadata": {
        "id": "U4t4JhGYGOcr"
      },
      "source": [
        "## Tensorboard logger\n",
        "\n",
        "> If you are using Firefox, **disable Enhanced Tracking Protection** for this website (click on the shield to the left of the address bar) for the Tensorboard logger to work correctly!"
      ]
    },
    {
      "cell_type": "code",
      "execution_count": null,
      "metadata": {
        "id": "lYCUyGITGU6j"
      },
      "outputs": [],
      "source": [
        "%load_ext tensorboard\n",
        "%tensorboard --logdir /content/runs/detect"
      ]
    },
    {
      "cell_type": "code",
      "source": [
        "from google.colab import drive\n",
        "drive.mount('/content/drive')"
      ],
      "metadata": {
        "id": "Hqu5hA8dApnx"
      },
      "execution_count": null,
      "outputs": []
    },
    {
      "cell_type": "code",
      "execution_count": null,
      "metadata": {
        "id": "h90_4rFQx0mp"
      },
      "outputs": [],
      "source": [
        "#@title ## Export to Google Drive or Download training results {display-mode: \"form\"}\n",
        "\n",
        "training_results = \"Export_Google_Drive\" #@param [\"Export_Google_Drive\", \"Download\"]\n",
        "#@markdown ---\n",
        "\n",
        "#@markdown ### Path for saving training results in Google Drive:\n",
        "GDrive_save_path = \"/content/drive/MyDrive/Training_results/YOLOv8\" #@param {type: \"string\"}\n",
        "\n",
        "if training_results == \"Export_Google_Drive\":\n",
        "  print(\"Exporting training results to Google Drive...\\n\")\n",
        "  !rsync -ah --mkpath --info=progress2 --no-i-r /content/runs/detect/{train_run_name} {GDrive_save_path}\n",
        "  print(\"\\nTraining results were successfully exported!\")\n",
        "elif training_results == \"Download\":\n",
        "  from google.colab import files\n",
        "  %cd /content/runs/detect\n",
        "  !zip -rq {train_run_name}.zip {train_run_name}\n",
        "  %cd -\n",
        "  files.download(f\"/content/runs/detect/{train_run_name}.zip\")"
      ]
    },
    {
      "cell_type": "markdown",
      "metadata": {
        "id": "k54rL7jSM_ni"
      },
      "source": [
        "# Model validation\n",
        "\n",
        "Test the performance of your model on the validation and/or test dataset.\n",
        "\n",
        "> Copy the validation results (cell output) and save to .txt file, as they will not be saved automatically."
      ]
    },
    {
      "cell_type": "code",
      "execution_count": null,
      "metadata": {
        "id": "pPKGJ1k8NDmo"
      },
      "outputs": [],
      "source": [
        "task = \"val\" #@param [\"val\", \"test\"]\n",
        "#@markdown > Use `task: test` to validate on the dataset test split.\n",
        "\n",
        "val_run_name = f\"{train_run_name}_validate_{task}\"\n",
        "\n",
        "%cd /content\n",
        "\n",
        "!yolo detect val \\\n",
        "name={val_run_name} \\\n",
        "model=/content/runs/detect/{train_run_name}/weights/best.pt \\\n",
        "data=/content/pass-1/data.yaml \\\n",
        "imgsz={image_size} \\\n",
        "split={task}"
      ]
    },
    {
      "cell_type": "code",
      "execution_count": null,
      "metadata": {
        "id": "6LrEr4uSVG6p"
      },
      "outputs": [],
      "source": [
        "#@title ## Export to Google Drive or Download validation results {display-mode: \"form\"}\n",
        "\n",
        "validation_results = \"Export_Google_Drive\" #@param [\"Export_Google_Drive\", \"Download\"]\n",
        "#@markdown ---\n",
        "\n",
        "#@markdown ### Path for saving validation results in Google Drive:\n",
        "GDrive_save_path = \"/content/drive/MyDrive/Training_results/YOLOv8\" #@param {type: \"string\"}\n",
        "\n",
        "if validation_results == \"Export_Google_Drive\":\n",
        "  print(\"Exporting validation results to Google Drive...\\n\")\n",
        "  !rsync -ah --mkpath --info=progress2 --no-i-r /content/runs/detect/{val_run_name} {GDrive_save_path}/{train_run_name}\n",
        "  print(\"\\nValidation results were successfully exported!\")\n",
        "elif validation_results == \"Download\":\n",
        "  from google.colab import files\n",
        "  %cd /content/runs/detect\n",
        "  !zip -rq {val_run_name}.zip {val_run_name}\n",
        "  %cd -\n",
        "  files.download(f\"/content/runs/detect/{val_run_name}.zip\")"
      ]
    },
    {
      "cell_type": "markdown",
      "metadata": {
        "id": "Rs7bZGuQROhk"
      },
      "source": [
        "# Model inference\n",
        "\n",
        "Use your model to detect insects on images in the dataset test split."
      ]
    },
    {
      "cell_type": "code",
      "execution_count": null,
      "metadata": {
        "id": "T99Qs1noRTbb"
      },
      "outputs": [],
      "source": [
        "#@markdown #### Decrease confidence threshold to detect objects with lower confidence score:\n",
        "confidence_threshold = 0.5 #@param {type:\"slider\", min:0.1, max:1, step:0.1}\n",
        "#@markdown #### Increase IoU threshold if the same object is detected multiple times:\n",
        "iou_threshold = 0.5 #@param {type:\"slider\", min:0.1, max:1, step:0.1}\n",
        "\n",
        "det_run_name = f\"{train_run_name}_detect\"\n",
        "\n",
        "%cd /content\n",
        "\n",
        "!yolo detect predict \\\n",
        "name={det_run_name} \\\n",
        "model=/content/runs/detect/{train_run_name}/weights/best.pt \\\n",
        "source=/content/pass-1/test/images \\\n",
        "imgsz={image_size} \\\n",
        "conf={confidence_threshold} \\\n",
        "iou={iou_threshold} \\\n",
        "save=True \\\n",
        "line_width=1 # bounding box line thickness and label size (default: 3)"
      ]
    },
    {
      "cell_type": "code",
      "execution_count": null,
      "metadata": {
        "id": "y2o9PC2ordie"
      },
      "outputs": [],
      "source": [
        "#@title ## Export to Google Drive or Download inference results {display-mode: \"form\"}\n",
        "\n",
        "inference_results = \"Export_Google_Drive\" #@param [\"Export_Google_Drive\", \"Download\"]\n",
        "#@markdown ---\n",
        "\n",
        "#@markdown ### Path for saving inference results in Google Drive:\n",
        "GDrive_save_path = \"/content/drive/MyDrive/Training_results/YOLOv8\" #@param {type: \"string\"}\n",
        "\n",
        "%cd /content/runs/detect\n",
        "!zip -rq {det_run_name}.zip {det_run_name}\n",
        "%cd -\n",
        "\n",
        "if inference_results == \"Export_Google_Drive\":\n",
        "  print(\"\\nExporting inference results to Google Drive...\\n\")\n",
        "  !rsync -ah --mkpath --info=progress2 --no-i-r /content/runs/detect/{det_run_name}.zip {GDrive_save_path}/{train_run_name}\n",
        "  print(\"\\nInference results were successfully exported!\")\n",
        "elif inference_results == \"Download\":\n",
        "  from google.colab import files\n",
        "  files.download(f\"/content/runs/detect/{det_run_name}.zip\")"
      ]
    },
    {
      "cell_type": "markdown",
      "metadata": {
        "id": "3_XwmhjIXnFt"
      },
      "source": [
        "## Show inference results on test images"
      ]
    },
    {
      "cell_type": "code",
      "execution_count": null,
      "metadata": {
        "id": "FsskeC4jRrj8"
      },
      "outputs": [],
      "source": [
        "from pathlib import Path\n",
        "from IPython.display import Image, display\n",
        "\n",
        "from pathlib import Path\n",
        "from IPython.display import display, Image\n",
        "\n",
        "# Path to your images\n",
        "image_path = Path(f\"/content/runs/detect/{det_run_name}\")\n",
        "\n",
        "# Counter to keep track of the number of images displayed\n",
        "image_counter = 0\n",
        "max_images = 20\n",
        "\n",
        "# Loop through images in the directory\n",
        "for img in image_path.glob(\"*.jpg\"):\n",
        "    if image_counter >= max_images:\n",
        "        break\n",
        "    display(Image(img))\n",
        "    image_counter += 1\n",
        "    print(\"\\n\")\n"
      ]
    },
    {
      "cell_type": "code",
      "source": [
        "from pathlib import Path\n",
        "from PIL import Image as PILImage\n",
        "from IPython.display import display\n",
        "\n",
        "# Define the path to the single image\n",
        "single_image_path = \"/content/pass-1/valid/images/000009_jpg.rf.6dc5106a69be6483a98f38c8acfb9dda.jpg\"  # Replace with the path to your image\n",
        "\n",
        "# Update the detection run name\n",
        "det_run_name = f\"{train_run_name}_detect\"\n",
        "\n",
        "# Change directory to /content\n",
        "%cd /content\n",
        "\n",
        "# Run YOLO detection on a single image\n",
        "!yolo detect predict \\\n",
        "name={det_run_name} \\\n",
        "model=/content/runs/detect/{train_run_name}/weights/best.pt \\\n",
        "source={single_image_path} \\\n",
        "imgsz={image_size} \\\n",
        "conf={confidence_threshold} \\\n",
        "iou={iou_threshold} \\\n",
        "save=True \\\n",
        "line_width=1\n",
        "\n",
        "# Path to the output image after detection\n",
        "output_image_path = Path(f\"/content/runs/detect/20240807_07-20_YOLOv8n_320_batch32_epochs200_detect3/000009_jpg.rf.6dc5106a69be6483a98f38c8acfb9dda.jpg\")  # Adjust if necessary\n",
        "\n",
        "# Open and display the output image\n",
        "result_image = PILImage.open(output_image_path)\n",
        "display(result_image)\n"
      ],
      "metadata": {
        "id": "EXngknXgDPPK"
      },
      "execution_count": null,
      "outputs": []
    }
  ],
  "metadata": {
    "accelerator": "GPU",
    "colab": {
      "private_outputs": true,
      "provenance": [],
      "gpuType": "L4"
    },
    "kernelspec": {
      "display_name": "Python 3",
      "name": "python3"
    },
    "language_info": {
      "name": "python",
      "version": "3.11.1 (tags/v3.11.1:a7a450f, Dec  6 2022, 19:58:39) [MSC v.1934 64 bit (AMD64)]"
    },
    "vscode": {
      "interpreter": {
        "hash": "baf2788c67905bf5eabce425833f665485fde887eca8cd7474f373ca3e9af677"
      }
    }
  },
  "nbformat": 4,
  "nbformat_minor": 0
}